{
 "cells": [
  {
   "cell_type": "code",
   "execution_count": 38,
   "metadata": {},
   "outputs": [],
   "source": [
    "# importing important libraries\n",
    "import numpy as np\n",
    "import pandas as pd\n",
    "from sklearn.feature_selection import chi2,SelectKBest\n",
    "from sklearn.preprocessing import StandardScaler\n",
    "from sklearn.linear_model import LinearRegression\n",
    "from sklearn.model_selection import StratifiedKFold\n",
    "import sklearn.metrics as metrics    "
   ]
  },
  {
   "cell_type": "code",
   "execution_count": 3,
   "metadata": {},
   "outputs": [
    {
     "data": {
      "text/html": [
       "<div>\n",
       "<style scoped>\n",
       "    .dataframe tbody tr th:only-of-type {\n",
       "        vertical-align: middle;\n",
       "    }\n",
       "\n",
       "    .dataframe tbody tr th {\n",
       "        vertical-align: top;\n",
       "    }\n",
       "\n",
       "    .dataframe thead th {\n",
       "        text-align: right;\n",
       "    }\n",
       "</style>\n",
       "<table border=\"1\" class=\"dataframe\">\n",
       "  <thead>\n",
       "    <tr style=\"text-align: right;\">\n",
       "      <th></th>\n",
       "      <th>PatientID</th>\n",
       "      <th>Age</th>\n",
       "      <th>Gender</th>\n",
       "      <th>Ethnicity</th>\n",
       "      <th>EducationLevel</th>\n",
       "      <th>BMI</th>\n",
       "      <th>Smoking</th>\n",
       "      <th>AlcoholConsumption</th>\n",
       "      <th>PhysicalActivity</th>\n",
       "      <th>DietQuality</th>\n",
       "      <th>...</th>\n",
       "      <th>MemoryComplaints</th>\n",
       "      <th>BehavioralProblems</th>\n",
       "      <th>ADL</th>\n",
       "      <th>Confusion</th>\n",
       "      <th>Disorientation</th>\n",
       "      <th>PersonalityChanges</th>\n",
       "      <th>DifficultyCompletingTasks</th>\n",
       "      <th>Forgetfulness</th>\n",
       "      <th>Diagnosis</th>\n",
       "      <th>DoctorInCharge</th>\n",
       "    </tr>\n",
       "  </thead>\n",
       "  <tbody>\n",
       "    <tr>\n",
       "      <th>0</th>\n",
       "      <td>4751</td>\n",
       "      <td>73</td>\n",
       "      <td>0</td>\n",
       "      <td>0</td>\n",
       "      <td>2</td>\n",
       "      <td>22.927749</td>\n",
       "      <td>0</td>\n",
       "      <td>13.297218</td>\n",
       "      <td>6.327112</td>\n",
       "      <td>1.347214</td>\n",
       "      <td>...</td>\n",
       "      <td>0</td>\n",
       "      <td>0</td>\n",
       "      <td>1.725883</td>\n",
       "      <td>0</td>\n",
       "      <td>0</td>\n",
       "      <td>0</td>\n",
       "      <td>1</td>\n",
       "      <td>0</td>\n",
       "      <td>0</td>\n",
       "      <td>XXXConfid</td>\n",
       "    </tr>\n",
       "    <tr>\n",
       "      <th>1</th>\n",
       "      <td>4752</td>\n",
       "      <td>89</td>\n",
       "      <td>0</td>\n",
       "      <td>0</td>\n",
       "      <td>0</td>\n",
       "      <td>26.827681</td>\n",
       "      <td>0</td>\n",
       "      <td>4.542524</td>\n",
       "      <td>7.619885</td>\n",
       "      <td>0.518767</td>\n",
       "      <td>...</td>\n",
       "      <td>0</td>\n",
       "      <td>0</td>\n",
       "      <td>2.592424</td>\n",
       "      <td>0</td>\n",
       "      <td>0</td>\n",
       "      <td>0</td>\n",
       "      <td>0</td>\n",
       "      <td>1</td>\n",
       "      <td>0</td>\n",
       "      <td>XXXConfid</td>\n",
       "    </tr>\n",
       "    <tr>\n",
       "      <th>2</th>\n",
       "      <td>4753</td>\n",
       "      <td>73</td>\n",
       "      <td>0</td>\n",
       "      <td>3</td>\n",
       "      <td>1</td>\n",
       "      <td>17.795882</td>\n",
       "      <td>0</td>\n",
       "      <td>19.555085</td>\n",
       "      <td>7.844988</td>\n",
       "      <td>1.826335</td>\n",
       "      <td>...</td>\n",
       "      <td>0</td>\n",
       "      <td>0</td>\n",
       "      <td>7.119548</td>\n",
       "      <td>0</td>\n",
       "      <td>1</td>\n",
       "      <td>0</td>\n",
       "      <td>1</td>\n",
       "      <td>0</td>\n",
       "      <td>0</td>\n",
       "      <td>XXXConfid</td>\n",
       "    </tr>\n",
       "    <tr>\n",
       "      <th>3</th>\n",
       "      <td>4754</td>\n",
       "      <td>74</td>\n",
       "      <td>1</td>\n",
       "      <td>0</td>\n",
       "      <td>1</td>\n",
       "      <td>33.800817</td>\n",
       "      <td>1</td>\n",
       "      <td>12.209266</td>\n",
       "      <td>8.428001</td>\n",
       "      <td>7.435604</td>\n",
       "      <td>...</td>\n",
       "      <td>0</td>\n",
       "      <td>1</td>\n",
       "      <td>6.481226</td>\n",
       "      <td>0</td>\n",
       "      <td>0</td>\n",
       "      <td>0</td>\n",
       "      <td>0</td>\n",
       "      <td>0</td>\n",
       "      <td>0</td>\n",
       "      <td>XXXConfid</td>\n",
       "    </tr>\n",
       "    <tr>\n",
       "      <th>4</th>\n",
       "      <td>4755</td>\n",
       "      <td>89</td>\n",
       "      <td>0</td>\n",
       "      <td>0</td>\n",
       "      <td>0</td>\n",
       "      <td>20.716974</td>\n",
       "      <td>0</td>\n",
       "      <td>18.454356</td>\n",
       "      <td>6.310461</td>\n",
       "      <td>0.795498</td>\n",
       "      <td>...</td>\n",
       "      <td>0</td>\n",
       "      <td>0</td>\n",
       "      <td>0.014691</td>\n",
       "      <td>0</td>\n",
       "      <td>0</td>\n",
       "      <td>1</td>\n",
       "      <td>1</td>\n",
       "      <td>0</td>\n",
       "      <td>0</td>\n",
       "      <td>XXXConfid</td>\n",
       "    </tr>\n",
       "  </tbody>\n",
       "</table>\n",
       "<p>5 rows × 35 columns</p>\n",
       "</div>"
      ],
      "text/plain": [
       "   PatientID  Age  Gender  Ethnicity  EducationLevel        BMI  Smoking  \\\n",
       "0       4751   73       0          0               2  22.927749        0   \n",
       "1       4752   89       0          0               0  26.827681        0   \n",
       "2       4753   73       0          3               1  17.795882        0   \n",
       "3       4754   74       1          0               1  33.800817        1   \n",
       "4       4755   89       0          0               0  20.716974        0   \n",
       "\n",
       "   AlcoholConsumption  PhysicalActivity  DietQuality  ...  MemoryComplaints  \\\n",
       "0           13.297218          6.327112     1.347214  ...                 0   \n",
       "1            4.542524          7.619885     0.518767  ...                 0   \n",
       "2           19.555085          7.844988     1.826335  ...                 0   \n",
       "3           12.209266          8.428001     7.435604  ...                 0   \n",
       "4           18.454356          6.310461     0.795498  ...                 0   \n",
       "\n",
       "   BehavioralProblems       ADL  Confusion  Disorientation  \\\n",
       "0                   0  1.725883          0               0   \n",
       "1                   0  2.592424          0               0   \n",
       "2                   0  7.119548          0               1   \n",
       "3                   1  6.481226          0               0   \n",
       "4                   0  0.014691          0               0   \n",
       "\n",
       "   PersonalityChanges  DifficultyCompletingTasks  Forgetfulness  Diagnosis  \\\n",
       "0                   0                          1              0          0   \n",
       "1                   0                          0              1          0   \n",
       "2                   0                          1              0          0   \n",
       "3                   0                          0              0          0   \n",
       "4                   1                          1              0          0   \n",
       "\n",
       "   DoctorInCharge  \n",
       "0       XXXConfid  \n",
       "1       XXXConfid  \n",
       "2       XXXConfid  \n",
       "3       XXXConfid  \n",
       "4       XXXConfid  \n",
       "\n",
       "[5 rows x 35 columns]"
      ]
     },
     "execution_count": 3,
     "metadata": {},
     "output_type": "execute_result"
    }
   ],
   "source": [
    "# reading the dataset\n",
    "df = pd.read_csv('dataset.csv')\n",
    "df.head()"
   ]
  },
  {
   "cell_type": "code",
   "execution_count": 4,
   "metadata": {},
   "outputs": [
    {
     "data": {
      "text/plain": [
       "Index(['PatientID', 'Age', 'Gender', 'Ethnicity', 'EducationLevel', 'BMI',\n",
       "       'Smoking', 'AlcoholConsumption', 'PhysicalActivity', 'DietQuality',\n",
       "       'SleepQuality', 'FamilyHistoryAlzheimers', 'CardiovascularDisease',\n",
       "       'Diabetes', 'Depression', 'HeadInjury', 'Hypertension', 'SystolicBP',\n",
       "       'DiastolicBP', 'CholesterolTotal', 'CholesterolLDL', 'CholesterolHDL',\n",
       "       'CholesterolTriglycerides', 'MMSE', 'FunctionalAssessment',\n",
       "       'MemoryComplaints', 'BehavioralProblems', 'ADL', 'Confusion',\n",
       "       'Disorientation', 'PersonalityChanges', 'DifficultyCompletingTasks',\n",
       "       'Forgetfulness', 'Diagnosis', 'DoctorInCharge'],\n",
       "      dtype='object')"
      ]
     },
     "execution_count": 4,
     "metadata": {},
     "output_type": "execute_result"
    }
   ],
   "source": [
    "# checking the columns present in the dataset.\n",
    "df.columns"
   ]
  },
  {
   "cell_type": "code",
   "execution_count": 5,
   "metadata": {},
   "outputs": [
    {
     "name": "stdout",
     "output_type": "stream",
     "text": [
      "<class 'pandas.core.frame.DataFrame'>\n",
      "RangeIndex: 2149 entries, 0 to 2148\n",
      "Data columns (total 35 columns):\n",
      " #   Column                     Non-Null Count  Dtype  \n",
      "---  ------                     --------------  -----  \n",
      " 0   PatientID                  2149 non-null   int64  \n",
      " 1   Age                        2149 non-null   int64  \n",
      " 2   Gender                     2149 non-null   int64  \n",
      " 3   Ethnicity                  2149 non-null   int64  \n",
      " 4   EducationLevel             2149 non-null   int64  \n",
      " 5   BMI                        2149 non-null   float64\n",
      " 6   Smoking                    2149 non-null   int64  \n",
      " 7   AlcoholConsumption         2149 non-null   float64\n",
      " 8   PhysicalActivity           2149 non-null   float64\n",
      " 9   DietQuality                2149 non-null   float64\n",
      " 10  SleepQuality               2149 non-null   float64\n",
      " 11  FamilyHistoryAlzheimers    2149 non-null   int64  \n",
      " 12  CardiovascularDisease      2149 non-null   int64  \n",
      " 13  Diabetes                   2149 non-null   int64  \n",
      " 14  Depression                 2149 non-null   int64  \n",
      " 15  HeadInjury                 2149 non-null   int64  \n",
      " 16  Hypertension               2149 non-null   int64  \n",
      " 17  SystolicBP                 2149 non-null   int64  \n",
      " 18  DiastolicBP                2149 non-null   int64  \n",
      " 19  CholesterolTotal           2149 non-null   float64\n",
      " 20  CholesterolLDL             2149 non-null   float64\n",
      " 21  CholesterolHDL             2149 non-null   float64\n",
      " 22  CholesterolTriglycerides   2149 non-null   float64\n",
      " 23  MMSE                       2149 non-null   float64\n",
      " 24  FunctionalAssessment       2149 non-null   float64\n",
      " 25  MemoryComplaints           2149 non-null   int64  \n",
      " 26  BehavioralProblems         2149 non-null   int64  \n",
      " 27  ADL                        2149 non-null   float64\n",
      " 28  Confusion                  2149 non-null   int64  \n",
      " 29  Disorientation             2149 non-null   int64  \n",
      " 30  PersonalityChanges         2149 non-null   int64  \n",
      " 31  DifficultyCompletingTasks  2149 non-null   int64  \n",
      " 32  Forgetfulness              2149 non-null   int64  \n",
      " 33  Diagnosis                  2149 non-null   int64  \n",
      " 34  DoctorInCharge             2149 non-null   object \n",
      "dtypes: float64(12), int64(22), object(1)\n",
      "memory usage: 587.7+ KB\n"
     ]
    }
   ],
   "source": [
    "# checking datatype of all columns of the dataset.\n",
    "df.info()"
   ]
  },
  {
   "cell_type": "code",
   "execution_count": 6,
   "metadata": {},
   "outputs": [],
   "source": [
    "# dropping the unnecessary column PatientID.\n",
    "df.drop('PatientID',axis = 1,inplace=True)"
   ]
  },
  {
   "cell_type": "code",
   "execution_count": 7,
   "metadata": {},
   "outputs": [
    {
     "data": {
      "text/plain": [
       "Age                          0\n",
       "Gender                       0\n",
       "Ethnicity                    0\n",
       "EducationLevel               0\n",
       "BMI                          0\n",
       "Smoking                      0\n",
       "AlcoholConsumption           0\n",
       "PhysicalActivity             0\n",
       "DietQuality                  0\n",
       "SleepQuality                 0\n",
       "FamilyHistoryAlzheimers      0\n",
       "CardiovascularDisease        0\n",
       "Diabetes                     0\n",
       "Depression                   0\n",
       "HeadInjury                   0\n",
       "Hypertension                 0\n",
       "SystolicBP                   0\n",
       "DiastolicBP                  0\n",
       "CholesterolTotal             0\n",
       "CholesterolLDL               0\n",
       "CholesterolHDL               0\n",
       "CholesterolTriglycerides     0\n",
       "MMSE                         0\n",
       "FunctionalAssessment         0\n",
       "MemoryComplaints             0\n",
       "BehavioralProblems           0\n",
       "ADL                          0\n",
       "Confusion                    0\n",
       "Disorientation               0\n",
       "PersonalityChanges           0\n",
       "DifficultyCompletingTasks    0\n",
       "Forgetfulness                0\n",
       "Diagnosis                    0\n",
       "DoctorInCharge               0\n",
       "dtype: int64"
      ]
     },
     "execution_count": 7,
     "metadata": {},
     "output_type": "execute_result"
    }
   ],
   "source": [
    "# checking if there is NA data in any attribute of the datset.\n",
    "df.isna().sum()"
   ]
  },
  {
   "cell_type": "code",
   "execution_count": 8,
   "metadata": {},
   "outputs": [
    {
     "data": {
      "text/plain": [
       "Index(['DoctorInCharge'], dtype='object')"
      ]
     },
     "execution_count": 8,
     "metadata": {},
     "output_type": "execute_result"
    }
   ],
   "source": [
    "# extracting the categorical columns from the dataset.\n",
    "object_columns = df.select_dtypes(['object']).columns\n",
    "object_columns"
   ]
  },
  {
   "cell_type": "code",
   "execution_count": 9,
   "metadata": {},
   "outputs": [
    {
     "data": {
      "text/plain": [
       "DoctorInCharge\n",
       "XXXConfid    2149\n",
       "Name: count, dtype: int64"
      ]
     },
     "execution_count": 9,
     "metadata": {},
     "output_type": "execute_result"
    }
   ],
   "source": [
    "# checking wheather i should hot encode this column or not.as there is only one value in this column so this column need not to be hot encoded.\n",
    "df.DoctorInCharge.value_counts()"
   ]
  },
  {
   "cell_type": "code",
   "execution_count": 10,
   "metadata": {},
   "outputs": [],
   "source": [
    "df.drop(['DoctorInCharge'],axis = 1,inplace=True)"
   ]
  },
  {
   "cell_type": "code",
   "execution_count": 11,
   "metadata": {},
   "outputs": [
    {
     "data": {
      "text/plain": [
       "Age                          1\n",
       "DiastolicBP                  1\n",
       "Forgetfulness                1\n",
       "DifficultyCompletingTasks    1\n",
       "PersonalityChanges           1\n",
       "Disorientation               1\n",
       "Confusion                    1\n",
       "ADL                          1\n",
       "BehavioralProblems           1\n",
       "MemoryComplaints             1\n",
       "FunctionalAssessment         1\n",
       "MMSE                         1\n",
       "CholesterolTriglycerides     1\n",
       "CholesterolHDL               1\n",
       "CholesterolLDL               1\n",
       "CholesterolTotal             1\n",
       "SystolicBP                   1\n",
       "Gender                       1\n",
       "Hypertension                 1\n",
       "HeadInjury                   1\n",
       "Depression                   1\n",
       "Diabetes                     1\n",
       "CardiovascularDisease        1\n",
       "FamilyHistoryAlzheimers      1\n",
       "SleepQuality                 1\n",
       "DietQuality                  1\n",
       "PhysicalActivity             1\n",
       "AlcoholConsumption           1\n",
       "Smoking                      1\n",
       "BMI                          1\n",
       "EducationLevel               1\n",
       "Ethnicity                    1\n",
       "Diagnosis                    1\n",
       "Name: count, dtype: int64"
      ]
     },
     "execution_count": 11,
     "metadata": {},
     "output_type": "execute_result"
    }
   ],
   "source": [
    "df.columns.value_counts()"
   ]
  },
  {
   "cell_type": "code",
   "execution_count": 12,
   "metadata": {},
   "outputs": [
    {
     "data": {
      "text/plain": [
       "Age                         -0.005488\n",
       "Gender                      -0.020975\n",
       "Ethnicity                   -0.014782\n",
       "EducationLevel              -0.043966\n",
       "BMI                          0.026343\n",
       "Smoking                     -0.004865\n",
       "AlcoholConsumption          -0.007618\n",
       "PhysicalActivity             0.005945\n",
       "DietQuality                  0.008506\n",
       "SleepQuality                -0.056548\n",
       "FamilyHistoryAlzheimers     -0.032900\n",
       "CardiovascularDisease        0.031490\n",
       "Diabetes                    -0.031508\n",
       "Depression                  -0.005893\n",
       "HeadInjury                  -0.021411\n",
       "Hypertension                 0.035080\n",
       "SystolicBP                  -0.015615\n",
       "DiastolicBP                  0.005293\n",
       "CholesterolTotal             0.006394\n",
       "CholesterolLDL              -0.031976\n",
       "CholesterolHDL               0.042584\n",
       "CholesterolTriglycerides     0.022672\n",
       "MMSE                        -0.237126\n",
       "FunctionalAssessment        -0.364898\n",
       "MemoryComplaints             0.306742\n",
       "BehavioralProblems           0.224350\n",
       "ADL                         -0.332346\n",
       "Confusion                   -0.019186\n",
       "Disorientation              -0.024648\n",
       "PersonalityChanges          -0.020627\n",
       "DifficultyCompletingTasks    0.009069\n",
       "Forgetfulness               -0.000354\n",
       "Diagnosis                    1.000000\n",
       "Name: Diagnosis, dtype: float64"
      ]
     },
     "execution_count": 12,
     "metadata": {},
     "output_type": "execute_result"
    }
   ],
   "source": [
    "df.corr()['Diagnosis']"
   ]
  },
  {
   "cell_type": "code",
   "execution_count": 15,
   "metadata": {},
   "outputs": [
    {
     "name": "stdout",
     "output_type": "stream",
     "text": [
      "                       Specs       Score\n",
      "22                      MMSE  607.256596\n",
      "23      FunctionalAssessment  471.117684\n",
      "26                       ADL  414.290935\n",
      "24          MemoryComplaints  160.142705\n",
      "25        BehavioralProblems   91.203581\n",
      "21  CholesterolTriglycerides   50.306694\n",
      "20            CholesterolHDL   35.073008\n",
      "19            CholesterolLDL   33.219382\n",
      "9               SleepQuality    3.029711\n",
      "4                        BMI    2.807631\n"
     ]
    }
   ],
   "source": [
    "# using chi square for the feature selection.\n",
    "data = df.copy()\n",
    "x = data.loc[:,data.columns != 'Diagnosis']\n",
    "y = data.loc[:,'Diagnosis']\n",
    "bestFeatures = SelectKBest(score_func=chi2, k='all')\n",
    "fit = bestFeatures.fit(x,y)\n",
    "dfscores = pd.DataFrame(fit.scores_)\n",
    "dfcolumns = pd.DataFrame(x.columns)\n",
    "featureScores = pd.concat([dfcolumns,dfscores],axis=1)\n",
    "featureScores.columns = ['Specs','Score']\n",
    "# printing the top8 best features of the dataset.\n",
    "print(featureScores.nlargest(10,'Score'))"
   ]
  },
  {
   "cell_type": "code",
   "execution_count": 16,
   "metadata": {},
   "outputs": [
    {
     "data": {
      "text/html": [
       "<div>\n",
       "<style scoped>\n",
       "    .dataframe tbody tr th:only-of-type {\n",
       "        vertical-align: middle;\n",
       "    }\n",
       "\n",
       "    .dataframe tbody tr th {\n",
       "        vertical-align: top;\n",
       "    }\n",
       "\n",
       "    .dataframe thead th {\n",
       "        text-align: right;\n",
       "    }\n",
       "</style>\n",
       "<table border=\"1\" class=\"dataframe\">\n",
       "  <thead>\n",
       "    <tr style=\"text-align: right;\">\n",
       "      <th></th>\n",
       "      <th>MMSE</th>\n",
       "      <th>FunctionalAssessment</th>\n",
       "      <th>ADL</th>\n",
       "      <th>MemoryComplaints</th>\n",
       "      <th>BehavioralProblems</th>\n",
       "      <th>CholesterolTriglycerides</th>\n",
       "      <th>CholesterolHDL</th>\n",
       "      <th>CholesterolLDL</th>\n",
       "    </tr>\n",
       "  </thead>\n",
       "  <tbody>\n",
       "    <tr>\n",
       "      <th>0</th>\n",
       "      <td>21.463532</td>\n",
       "      <td>6.518877</td>\n",
       "      <td>1.725883</td>\n",
       "      <td>0</td>\n",
       "      <td>0</td>\n",
       "      <td>162.189143</td>\n",
       "      <td>33.682563</td>\n",
       "      <td>56.150897</td>\n",
       "    </tr>\n",
       "    <tr>\n",
       "      <th>1</th>\n",
       "      <td>20.613267</td>\n",
       "      <td>7.118696</td>\n",
       "      <td>2.592424</td>\n",
       "      <td>0</td>\n",
       "      <td>0</td>\n",
       "      <td>294.630909</td>\n",
       "      <td>79.028477</td>\n",
       "      <td>193.407996</td>\n",
       "    </tr>\n",
       "    <tr>\n",
       "      <th>2</th>\n",
       "      <td>7.356249</td>\n",
       "      <td>5.895077</td>\n",
       "      <td>7.119548</td>\n",
       "      <td>0</td>\n",
       "      <td>0</td>\n",
       "      <td>83.638324</td>\n",
       "      <td>69.772292</td>\n",
       "      <td>153.322762</td>\n",
       "    </tr>\n",
       "    <tr>\n",
       "      <th>3</th>\n",
       "      <td>13.991127</td>\n",
       "      <td>8.965106</td>\n",
       "      <td>6.481226</td>\n",
       "      <td>0</td>\n",
       "      <td>1</td>\n",
       "      <td>277.577358</td>\n",
       "      <td>68.457491</td>\n",
       "      <td>65.366637</td>\n",
       "    </tr>\n",
       "    <tr>\n",
       "      <th>4</th>\n",
       "      <td>13.517609</td>\n",
       "      <td>6.045039</td>\n",
       "      <td>0.014691</td>\n",
       "      <td>0</td>\n",
       "      <td>0</td>\n",
       "      <td>291.198780</td>\n",
       "      <td>56.874305</td>\n",
       "      <td>92.869700</td>\n",
       "    </tr>\n",
       "    <tr>\n",
       "      <th>...</th>\n",
       "      <td>...</td>\n",
       "      <td>...</td>\n",
       "      <td>...</td>\n",
       "      <td>...</td>\n",
       "      <td>...</td>\n",
       "      <td>...</td>\n",
       "      <td>...</td>\n",
       "      <td>...</td>\n",
       "    </tr>\n",
       "    <tr>\n",
       "      <th>2144</th>\n",
       "      <td>1.201190</td>\n",
       "      <td>0.238667</td>\n",
       "      <td>4.492838</td>\n",
       "      <td>0</td>\n",
       "      <td>0</td>\n",
       "      <td>234.520123</td>\n",
       "      <td>60.943092</td>\n",
       "      <td>94.870490</td>\n",
       "    </tr>\n",
       "    <tr>\n",
       "      <th>2145</th>\n",
       "      <td>6.458060</td>\n",
       "      <td>8.687480</td>\n",
       "      <td>9.204952</td>\n",
       "      <td>0</td>\n",
       "      <td>1</td>\n",
       "      <td>367.986877</td>\n",
       "      <td>93.649735</td>\n",
       "      <td>95.410700</td>\n",
       "    </tr>\n",
       "    <tr>\n",
       "      <th>2146</th>\n",
       "      <td>17.011003</td>\n",
       "      <td>1.972137</td>\n",
       "      <td>5.036334</td>\n",
       "      <td>0</td>\n",
       "      <td>0</td>\n",
       "      <td>294.802338</td>\n",
       "      <td>99.678209</td>\n",
       "      <td>156.267294</td>\n",
       "    </tr>\n",
       "    <tr>\n",
       "      <th>2147</th>\n",
       "      <td>4.030491</td>\n",
       "      <td>5.173891</td>\n",
       "      <td>3.785399</td>\n",
       "      <td>0</td>\n",
       "      <td>0</td>\n",
       "      <td>145.253746</td>\n",
       "      <td>81.281111</td>\n",
       "      <td>52.482961</td>\n",
       "    </tr>\n",
       "    <tr>\n",
       "      <th>2148</th>\n",
       "      <td>11.114777</td>\n",
       "      <td>6.307543</td>\n",
       "      <td>8.327563</td>\n",
       "      <td>0</td>\n",
       "      <td>1</td>\n",
       "      <td>217.396873</td>\n",
       "      <td>81.920043</td>\n",
       "      <td>92.200064</td>\n",
       "    </tr>\n",
       "  </tbody>\n",
       "</table>\n",
       "<p>2149 rows × 8 columns</p>\n",
       "</div>"
      ],
      "text/plain": [
       "           MMSE  FunctionalAssessment       ADL  MemoryComplaints  \\\n",
       "0     21.463532              6.518877  1.725883                 0   \n",
       "1     20.613267              7.118696  2.592424                 0   \n",
       "2      7.356249              5.895077  7.119548                 0   \n",
       "3     13.991127              8.965106  6.481226                 0   \n",
       "4     13.517609              6.045039  0.014691                 0   \n",
       "...         ...                   ...       ...               ...   \n",
       "2144   1.201190              0.238667  4.492838                 0   \n",
       "2145   6.458060              8.687480  9.204952                 0   \n",
       "2146  17.011003              1.972137  5.036334                 0   \n",
       "2147   4.030491              5.173891  3.785399                 0   \n",
       "2148  11.114777              6.307543  8.327563                 0   \n",
       "\n",
       "      BehavioralProblems  CholesterolTriglycerides  CholesterolHDL  \\\n",
       "0                      0                162.189143       33.682563   \n",
       "1                      0                294.630909       79.028477   \n",
       "2                      0                 83.638324       69.772292   \n",
       "3                      1                277.577358       68.457491   \n",
       "4                      0                291.198780       56.874305   \n",
       "...                  ...                       ...             ...   \n",
       "2144                   0                234.520123       60.943092   \n",
       "2145                   1                367.986877       93.649735   \n",
       "2146                   0                294.802338       99.678209   \n",
       "2147                   0                145.253746       81.281111   \n",
       "2148                   1                217.396873       81.920043   \n",
       "\n",
       "      CholesterolLDL  \n",
       "0          56.150897  \n",
       "1         193.407996  \n",
       "2         153.322762  \n",
       "3          65.366637  \n",
       "4          92.869700  \n",
       "...              ...  \n",
       "2144       94.870490  \n",
       "2145       95.410700  \n",
       "2146      156.267294  \n",
       "2147       52.482961  \n",
       "2148       92.200064  \n",
       "\n",
       "[2149 rows x 8 columns]"
      ]
     },
     "execution_count": 16,
     "metadata": {},
     "output_type": "execute_result"
    }
   ],
   "source": [
    "x = data[featureScores.sort_values(by='Score', ascending=False).iloc[:8,0]]\n",
    "x"
   ]
  },
  {
   "cell_type": "code",
   "execution_count": 23,
   "metadata": {},
   "outputs": [],
   "source": [
    "# df.corr()"
   ]
  },
  {
   "cell_type": "code",
   "execution_count": 25,
   "metadata": {},
   "outputs": [
    {
     "data": {
      "text/plain": [
       "0       0\n",
       "1       0\n",
       "2       0\n",
       "3       0\n",
       "4       0\n",
       "       ..\n",
       "2144    1\n",
       "2145    1\n",
       "2146    1\n",
       "2147    1\n",
       "2148    0\n",
       "Name: Diagnosis, Length: 2149, dtype: int64"
      ]
     },
     "execution_count": 25,
     "metadata": {},
     "output_type": "execute_result"
    }
   ],
   "source": [
    "y = data['Diagnosis']\n",
    "y"
   ]
  },
  {
   "cell_type": "code",
   "execution_count": 31,
   "metadata": {},
   "outputs": [],
   "source": [
    "sc = StandardScaler()"
   ]
  },
  {
   "cell_type": "code",
   "execution_count": 32,
   "metadata": {},
   "outputs": [
    {
     "data": {
      "text/plain": [
       "array([[ 0.77903679,  0.49750588, -1.10443449, ..., -0.64819945,\n",
       "        -1.11442916, -1.57266058],\n",
       "       [ 0.68029675,  0.70490696, -0.81060109, ...,  0.65072056,\n",
       "         0.84573019,  1.59311897],\n",
       "       [-0.85922158,  0.28181278,  0.72449145, ..., -1.41858505,\n",
       "         0.44561479,  0.66856925],\n",
       "       ...,\n",
       "       [ 0.26197104, -1.07463444,  0.01809901, ...,  0.65240184,\n",
       "         1.73835228,  0.73648368],\n",
       "       [-1.24543699,  0.03244596, -0.40607792, ..., -0.81429302,\n",
       "         0.94310436, -1.65726005],\n",
       "       [-0.42274909,  0.42443239,  1.13411473, ..., -0.10675073,\n",
       "         0.97072337, -0.74120109]])"
      ]
     },
     "execution_count": 32,
     "metadata": {},
     "output_type": "execute_result"
    }
   ],
   "source": [
    "x  = sc.fit_transform(x)\n",
    "# x"
   ]
  },
  {
   "cell_type": "code",
   "execution_count": 40,
   "metadata": {},
   "outputs": [],
   "source": [
    "skf = StratifiedKFold(n_splits=5)\n",
    "model = LinearRegression()\n"
   ]
  },
  {
   "cell_type": "code",
   "execution_count": 41,
   "metadata": {},
   "outputs": [
    {
     "ename": "ValueError",
     "evalue": "Classification metrics can't handle a mix of binary and continuous targets",
     "output_type": "error",
     "traceback": [
      "\u001b[1;31m---------------------------------------------------------------------------\u001b[0m",
      "\u001b[1;31mValueError\u001b[0m                                Traceback (most recent call last)",
      "Cell \u001b[1;32mIn[41], line 9\u001b[0m\n\u001b[0;32m      7\u001b[0m     model\u001b[38;5;241m.\u001b[39mfit(xTrain,yTrain)\n\u001b[0;32m      8\u001b[0m     yPred \u001b[38;5;241m=\u001b[39m model\u001b[38;5;241m.\u001b[39mpredict(xTest)\n\u001b[1;32m----> 9\u001b[0m     testAccuracy \u001b[38;5;241m=\u001b[39m \u001b[43mmetrics\u001b[49m\u001b[38;5;241;43m.\u001b[39;49m\u001b[43maccuracy_score\u001b[49m\u001b[43m(\u001b[49m\u001b[43myTest\u001b[49m\u001b[43m,\u001b[49m\u001b[43myPred\u001b[49m\u001b[43m)\u001b[49m\n\u001b[0;32m     10\u001b[0m     accuracy \u001b[38;5;241m+\u001b[39m\u001b[38;5;241m=\u001b[39m testAccuracy\n\u001b[0;32m     11\u001b[0m \u001b[38;5;28mprint\u001b[39m((accuracy\u001b[38;5;241m/\u001b[39m\u001b[38;5;241m5\u001b[39m)\u001b[38;5;241m*\u001b[39m\u001b[38;5;241m100\u001b[39m)\n",
      "File \u001b[1;32mc:\\Users\\WELCOME\\AppData\\Local\\Programs\\Python\\Python312\\Lib\\site-packages\\sklearn\\utils\\_param_validation.py:214\u001b[0m, in \u001b[0;36mvalidate_params.<locals>.decorator.<locals>.wrapper\u001b[1;34m(*args, **kwargs)\u001b[0m\n\u001b[0;32m    208\u001b[0m \u001b[38;5;28;01mtry\u001b[39;00m:\n\u001b[0;32m    209\u001b[0m     \u001b[38;5;28;01mwith\u001b[39;00m config_context(\n\u001b[0;32m    210\u001b[0m         skip_parameter_validation\u001b[38;5;241m=\u001b[39m(\n\u001b[0;32m    211\u001b[0m             prefer_skip_nested_validation \u001b[38;5;129;01mor\u001b[39;00m global_skip_validation\n\u001b[0;32m    212\u001b[0m         )\n\u001b[0;32m    213\u001b[0m     ):\n\u001b[1;32m--> 214\u001b[0m         \u001b[38;5;28;01mreturn\u001b[39;00m \u001b[43mfunc\u001b[49m\u001b[43m(\u001b[49m\u001b[38;5;241;43m*\u001b[39;49m\u001b[43margs\u001b[49m\u001b[43m,\u001b[49m\u001b[43m \u001b[49m\u001b[38;5;241;43m*\u001b[39;49m\u001b[38;5;241;43m*\u001b[39;49m\u001b[43mkwargs\u001b[49m\u001b[43m)\u001b[49m\n\u001b[0;32m    215\u001b[0m \u001b[38;5;28;01mexcept\u001b[39;00m InvalidParameterError \u001b[38;5;28;01mas\u001b[39;00m e:\n\u001b[0;32m    216\u001b[0m     \u001b[38;5;66;03m# When the function is just a wrapper around an estimator, we allow\u001b[39;00m\n\u001b[0;32m    217\u001b[0m     \u001b[38;5;66;03m# the function to delegate validation to the estimator, but we replace\u001b[39;00m\n\u001b[0;32m    218\u001b[0m     \u001b[38;5;66;03m# the name of the estimator by the name of the function in the error\u001b[39;00m\n\u001b[0;32m    219\u001b[0m     \u001b[38;5;66;03m# message to avoid confusion.\u001b[39;00m\n\u001b[0;32m    220\u001b[0m     msg \u001b[38;5;241m=\u001b[39m re\u001b[38;5;241m.\u001b[39msub(\n\u001b[0;32m    221\u001b[0m         \u001b[38;5;124mr\u001b[39m\u001b[38;5;124m\"\u001b[39m\u001b[38;5;124mparameter of \u001b[39m\u001b[38;5;124m\\\u001b[39m\u001b[38;5;124mw+ must be\u001b[39m\u001b[38;5;124m\"\u001b[39m,\n\u001b[0;32m    222\u001b[0m         \u001b[38;5;124mf\u001b[39m\u001b[38;5;124m\"\u001b[39m\u001b[38;5;124mparameter of \u001b[39m\u001b[38;5;132;01m{\u001b[39;00mfunc\u001b[38;5;241m.\u001b[39m\u001b[38;5;18m__qualname__\u001b[39m\u001b[38;5;132;01m}\u001b[39;00m\u001b[38;5;124m must be\u001b[39m\u001b[38;5;124m\"\u001b[39m,\n\u001b[0;32m    223\u001b[0m         \u001b[38;5;28mstr\u001b[39m(e),\n\u001b[0;32m    224\u001b[0m     )\n",
      "File \u001b[1;32mc:\\Users\\WELCOME\\AppData\\Local\\Programs\\Python\\Python312\\Lib\\site-packages\\sklearn\\metrics\\_classification.py:220\u001b[0m, in \u001b[0;36maccuracy_score\u001b[1;34m(y_true, y_pred, normalize, sample_weight)\u001b[0m\n\u001b[0;32m    154\u001b[0m \u001b[38;5;250m\u001b[39m\u001b[38;5;124;03m\"\"\"Accuracy classification score.\u001b[39;00m\n\u001b[0;32m    155\u001b[0m \n\u001b[0;32m    156\u001b[0m \u001b[38;5;124;03mIn multilabel classification, this function computes subset accuracy:\u001b[39;00m\n\u001b[1;32m   (...)\u001b[0m\n\u001b[0;32m    216\u001b[0m \u001b[38;5;124;03m0.5\u001b[39;00m\n\u001b[0;32m    217\u001b[0m \u001b[38;5;124;03m\"\"\"\u001b[39;00m\n\u001b[0;32m    219\u001b[0m \u001b[38;5;66;03m# Compute accuracy for each possible representation\u001b[39;00m\n\u001b[1;32m--> 220\u001b[0m y_type, y_true, y_pred \u001b[38;5;241m=\u001b[39m \u001b[43m_check_targets\u001b[49m\u001b[43m(\u001b[49m\u001b[43my_true\u001b[49m\u001b[43m,\u001b[49m\u001b[43m \u001b[49m\u001b[43my_pred\u001b[49m\u001b[43m)\u001b[49m\n\u001b[0;32m    221\u001b[0m check_consistent_length(y_true, y_pred, sample_weight)\n\u001b[0;32m    222\u001b[0m \u001b[38;5;28;01mif\u001b[39;00m y_type\u001b[38;5;241m.\u001b[39mstartswith(\u001b[38;5;124m\"\u001b[39m\u001b[38;5;124mmultilabel\u001b[39m\u001b[38;5;124m\"\u001b[39m):\n",
      "File \u001b[1;32mc:\\Users\\WELCOME\\AppData\\Local\\Programs\\Python\\Python312\\Lib\\site-packages\\sklearn\\metrics\\_classification.py:93\u001b[0m, in \u001b[0;36m_check_targets\u001b[1;34m(y_true, y_pred)\u001b[0m\n\u001b[0;32m     90\u001b[0m     y_type \u001b[38;5;241m=\u001b[39m {\u001b[38;5;124m\"\u001b[39m\u001b[38;5;124mmulticlass\u001b[39m\u001b[38;5;124m\"\u001b[39m}\n\u001b[0;32m     92\u001b[0m \u001b[38;5;28;01mif\u001b[39;00m \u001b[38;5;28mlen\u001b[39m(y_type) \u001b[38;5;241m>\u001b[39m \u001b[38;5;241m1\u001b[39m:\n\u001b[1;32m---> 93\u001b[0m     \u001b[38;5;28;01mraise\u001b[39;00m \u001b[38;5;167;01mValueError\u001b[39;00m(\n\u001b[0;32m     94\u001b[0m         \u001b[38;5;124m\"\u001b[39m\u001b[38;5;124mClassification metrics can\u001b[39m\u001b[38;5;124m'\u001b[39m\u001b[38;5;124mt handle a mix of \u001b[39m\u001b[38;5;132;01m{0}\u001b[39;00m\u001b[38;5;124m and \u001b[39m\u001b[38;5;132;01m{1}\u001b[39;00m\u001b[38;5;124m targets\u001b[39m\u001b[38;5;124m\"\u001b[39m\u001b[38;5;241m.\u001b[39mformat(\n\u001b[0;32m     95\u001b[0m             type_true, type_pred\n\u001b[0;32m     96\u001b[0m         )\n\u001b[0;32m     97\u001b[0m     )\n\u001b[0;32m     99\u001b[0m \u001b[38;5;66;03m# We can't have more than one value on y_type => The set is no more needed\u001b[39;00m\n\u001b[0;32m    100\u001b[0m y_type \u001b[38;5;241m=\u001b[39m y_type\u001b[38;5;241m.\u001b[39mpop()\n",
      "\u001b[1;31mValueError\u001b[0m: Classification metrics can't handle a mix of binary and continuous targets"
     ]
    }
   ],
   "source": [
    "accuracy = 0\n",
    "for train_index,test_index in skf.split(x,y):\n",
    "    xTrain = x[train_index]\n",
    "    xTest = x[test_index]\n",
    "    yTrain = y[train_index]\n",
    "    yTest = y[test_index]\n",
    "    model.fit(xTrain,yTrain)\n",
    "    yPred = model.predict(xTest)\n",
    "    testAccuracy = metrics.accuracy_score(yTest,yPred)\n",
    "    accuracy += testAccuracy\n",
    "print((accuracy/5)*100)"
   ]
  },
  {
   "cell_type": "code",
   "execution_count": null,
   "metadata": {},
   "outputs": [],
   "source": []
  }
 ],
 "metadata": {
  "kernelspec": {
   "display_name": "Python 3",
   "language": "python",
   "name": "python3"
  },
  "language_info": {
   "codemirror_mode": {
    "name": "ipython",
    "version": 3
   },
   "file_extension": ".py",
   "mimetype": "text/x-python",
   "name": "python",
   "nbconvert_exporter": "python",
   "pygments_lexer": "ipython3",
   "version": "3.12.0"
  }
 },
 "nbformat": 4,
 "nbformat_minor": 2
}
