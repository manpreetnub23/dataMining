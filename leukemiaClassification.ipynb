{
  "nbformat": 4,
  "nbformat_minor": 0,
  "metadata": {
    "colab": {
      "provenance": [],
      "gpuType": "T4",
      "authorship_tag": "ABX9TyNL+LeR9XaUKPtqTVdsBRog",
      "include_colab_link": true
    },
    "kernelspec": {
      "name": "python3",
      "display_name": "Python 3"
    },
    "language_info": {
      "name": "python"
    },
    "accelerator": "GPU"
  },
  "cells": [
    {
      "cell_type": "markdown",
      "metadata": {
        "id": "view-in-github",
        "colab_type": "text"
      },
      "source": [
        "<a href=\"https://colab.research.google.com/github/manpreetnub23/dataMining/blob/main/leukemiaClassification.ipynb\" target=\"_parent\"><img src=\"https://colab.research.google.com/assets/colab-badge.svg\" alt=\"Open In Colab\"/></a>"
      ]
    },
    {
      "cell_type": "code",
      "execution_count": null,
      "metadata": {
        "colab": {
          "base_uri": "https://localhost:8080/"
        },
        "id": "tUmCBieg_wbd",
        "outputId": "4054a883-356c-4a66-9cf9-003e81dab9df"
      },
      "outputs": [
        {
          "output_type": "stream",
          "name": "stdout",
          "text": [
            "cp: cannot stat 'kaggle.json': No such file or directory\n"
          ]
        }
      ],
      "source": [
        "!mkdir -p ~/.kaggle\n",
        "!cp kaggle.json ~/.kaggle/"
      ]
    },
    {
      "cell_type": "code",
      "source": [
        "!kaggle datasets download -d andrewmvd/leukemia-classification"
      ],
      "metadata": {
        "colab": {
          "base_uri": "https://localhost:8080/"
        },
        "id": "Jm9QMS3i_6km",
        "outputId": "6ed345f8-9f9e-4ccf-d7c9-98989cf6a308"
      },
      "execution_count": null,
      "outputs": [
        {
          "output_type": "stream",
          "name": "stdout",
          "text": [
            "Dataset URL: https://www.kaggle.com/datasets/andrewmvd/leukemia-classification\n",
            "License(s): other\n",
            "Downloading leukemia-classification.zip to /content\n",
            " 98% 849M/867M [00:11<00:00, 65.9MB/s]\n",
            "100% 867M/867M [00:11<00:00, 76.7MB/s]\n"
          ]
        }
      ]
    },
    {
      "cell_type": "code",
      "source": [
        "import zipfile\n",
        "zip_ref = zipfile.ZipFile('/content/leukemia-classification.zip','r')\n",
        "zip_ref.extractall('/content')\n",
        "zip_ref.close()"
      ],
      "metadata": {
        "id": "IJUPoh7_AalD"
      },
      "execution_count": null,
      "outputs": []
    },
    {
      "cell_type": "code",
      "source": [
        "import os"
      ],
      "metadata": {
        "id": "FhUdr6xNBzxn"
      },
      "execution_count": null,
      "outputs": []
    },
    {
      "cell_type": "code",
      "source": [
        "all0 = \"/content/C-NMC_Leukemia/training_data/fold_0/all\"\n",
        "all1 = \"/content/C-NMC_Leukemia/training_data/fold_1/all\"\n",
        "all2 = \"/content/C-NMC_Leukemia/training_data/fold_2/all\"\n",
        "hem0 = \"/content/C-NMC_Leukemia/training_data/fold_0/hem\"\n",
        "hem1 = \"/content/C-NMC_Leukemia/training_data/fold_0/hem\"\n",
        "hem2 = \"/content/C-NMC_Leukemia/training_data/fold_0/hem\""
      ],
      "metadata": {
        "id": "7j_bHsn8B1Lm"
      },
      "execution_count": null,
      "outputs": []
    },
    {
      "cell_type": "code",
      "source": [
        "def get_imgPath(folder):\n",
        "    image_paths = []\n",
        "    image_fnames = os.listdir(folder)\n",
        "    for img_id in range(len(image_fnames)):\n",
        "        img = os.path.join(folder,image_fnames[img_id])\n",
        "        image_paths.append(img)\n",
        "\n",
        "    return image_paths"
      ],
      "metadata": {
        "id": "WHOyYlV-DmaO"
      },
      "execution_count": null,
      "outputs": []
    },
    {
      "cell_type": "code",
      "source": [
        "imgData = []\n",
        "for i in [all0,all1,all2,hem0,hem1,hem2]:\n",
        "    paths = get_imgPath(i);\n",
        "    imgData.extend(paths)\n",
        "print(len(imgData))"
      ],
      "metadata": {
        "colab": {
          "base_uri": "https://localhost:8080/"
        },
        "id": "E6F-W94iEOoM",
        "outputId": "34640889-c98b-429e-aaf7-49338fe04f63"
      },
      "execution_count": null,
      "outputs": [
        {
          "output_type": "stream",
          "name": "stdout",
          "text": [
            "10662\n"
          ]
        }
      ]
    }
  ]
}